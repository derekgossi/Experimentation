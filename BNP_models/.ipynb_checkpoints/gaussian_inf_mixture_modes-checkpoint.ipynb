{
 "metadata": {
  "name": "",
  "signature": "sha256:045ec4f14cf03802de59edc1fedb8260df7e4b351ea43aa9091defa5c996668e"
 },
 "nbformat": 3,
 "nbformat_minor": 0,
 "worksheets": [
  {
   "cells": [
    {
     "cell_type": "code",
     "collapsed": false,
     "input": [
      "import numpy as np\n",
      "import random\n",
      "import pandas as pd\n",
      "\n",
      "# Generate some toy multivariate gaussians\n",
      "gaussian_1 = np.random.multivariate_normal([0, 0],[[0.1, 0], [0, 3]], 200)\n",
      "gaussian_2 = np.random.multivariate_normal([2, 5],[[2.5, 2], [0, 0.5]], 100)\n",
      "gaussian_3 = np.random.multivariate_normal([-4, 0],[[2.5, 5], [0.5, 1]], 24)\n",
      "gaussian_4 = np.random.multivariate_normal([-5, 1],[[3, 2.4], [4, 6]], 59)\n",
      "gaussians = [gaussian_1, gaussian_2, gaussian_3, gaussian_4]\n",
      "\n",
      "# Put them in a dataframe\n",
      "for num, gaussian in enumerate(gaussians):\n",
      "    df = pd.DataFrame({'x' : gaussian[:,0], 'y' : gaussian[:,1]})\n",
      "    if num == 0: gaussian_data = df\n",
      "    else: gaussian_data = pd.concat([gaussian_data, df])\n"
     ],
     "language": "python",
     "metadata": {},
     "outputs": [
      {
       "html": [
        "<div style=\"max-height:1000px;max-width:1500px;overflow:auto;\">\n",
        "<table border=\"1\" class=\"dataframe\">\n",
        "  <thead>\n",
        "    <tr style=\"text-align: right;\">\n",
        "      <th></th>\n",
        "      <th>x</th>\n",
        "      <th>y</th>\n",
        "    </tr>\n",
        "  </thead>\n",
        "  <tbody>\n",
        "    <tr>\n",
        "      <th>0</th>\n",
        "      <td>-2.167573</td>\n",
        "      <td> 3.664854</td>\n",
        "    </tr>\n",
        "    <tr>\n",
        "      <th>1</th>\n",
        "      <td>-4.128717</td>\n",
        "      <td>-0.257434</td>\n",
        "    </tr>\n",
        "    <tr>\n",
        "      <th>2</th>\n",
        "      <td>-4.037789</td>\n",
        "      <td>-0.075577</td>\n",
        "    </tr>\n",
        "    <tr>\n",
        "      <th>3</th>\n",
        "      <td>-3.574029</td>\n",
        "      <td> 0.851942</td>\n",
        "    </tr>\n",
        "    <tr>\n",
        "      <th>4</th>\n",
        "      <td>-3.808035</td>\n",
        "      <td> 0.383930</td>\n",
        "    </tr>\n",
        "  </tbody>\n",
        "</table>\n",
        "</div>"
       ],
       "metadata": {},
       "output_type": "pyout",
       "prompt_number": 54,
       "text": [
        "          x         y\n",
        "0 -2.167573  3.664854\n",
        "1 -4.128717 -0.257434\n",
        "2 -4.037789 -0.075577\n",
        "3 -3.574029  0.851942\n",
        "4 -3.808035  0.383930"
       ]
      }
     ],
     "prompt_number": 54
    },
    {
     "cell_type": "code",
     "collapsed": false,
     "input": [
      "import matplotlib.pyplot as plt\n",
      "import seaborn as sb\n",
      "%matplotlib inline\n",
      "\n",
      "# Plot that fake data\n",
      "plt.scatter(normal_1[:,0], normal_1[:,1], color='r')\n",
      "plt.scatter(normal_2[:,0], normal_2[:,1], color='b')\n",
      "plt.scatter(normal_3[:,0], normal_3[:,1], color='y')\n",
      "plt.scatter(normal_4[:,0], normal_4[:,1], color='g')\n",
      "plt.xlim([-10,10])\n",
      "plt.ylim([-10,10])\n",
      "plt.show()\n"
     ],
     "language": "python",
     "metadata": {},
     "outputs": [
      {
       "metadata": {},
       "output_type": "display_data",
       "png": "[encoded data removed]",
       "text": [
        "<matplotlib.figure.Figure at 0x105bfb9d0>"
       ]
      }
     ],
     "prompt_number": 2
    },
    {
     "cell_type": "code",
     "collapsed": false,
     "input": [
      "# Chinese Restaurant Process\n",
      "def chinese_restaurant_process(num_customers, alpha):\n",
      "    # Check if number of customers is positive\n",
      "    if num_customers <= 0: return []\n",
      "    \n",
      "    # Initialize table assignments and the next open table\n",
      "    table_assignments = []\n",
      "    next_open_table = 1\n",
      "  \n",
      "    # Now generate table assignments for the rest of the customers.\n",
      "    for i in range(1, (num_customers + 1)):\n",
      "        # Customer n chooses to sit at a new table\n",
      "        # with probability alpha / (alpha + n - 1)\n",
      "        if random.random() < ( float(alpha) / (alpha + (i - 1)) ):\n",
      "            # Customer sits at new table.\n",
      "            table_assignments.append(next_open_table)\n",
      "            next_open_table += 1\n",
      "        \n",
      "        # Customer chooses to sit at an existing table by choosing\n",
      "        # a random seated customer and sitting at their table,\n",
      "        # thus giving more weight to tables with lots of people already.\n",
      "        else:\n",
      "            which_table = table_assignments[random.randint(0,len(table_assignments)-1)]\n",
      "            table_assignments.append(which_table)\n",
      "  \n",
      "    return table_assignments\n"
     ],
     "language": "python",
     "metadata": {},
     "outputs": [],
     "prompt_number": 3
    },
    {
     "cell_type": "code",
     "collapsed": false,
     "input": [
      "# Long run probabilities for CRP\n",
      "def long_run_prob_CRP(num_customers, alpha, iters):\n",
      "    # Initialize the number of customers sitting at each table to 0\n",
      "    table_counts = [0] * num_customers\n",
      "    \n",
      "    # Do the CRP and keep adding table assignments to table_counts\n",
      "    for iteration in range(iters):\n",
      "        for i in chinese_restaurant_process(num_customers, alpha):\n",
      "            table_counts[i-1] += 1\n",
      "    \n",
      "    # Convert table counts into PDF\n",
      "    table_pdf = [ float(i) / ( num_customers * iters ) for i in table_counts ]\n",
      "    return table_pdf\n",
      "    \n",
      "    \n",
      "\n",
      "print long_run_prob_CRP(num_customers = 10, alpha = 0.1, iters = 1000)"
     ],
     "language": "python",
     "metadata": {},
     "outputs": [
      {
       "output_type": "stream",
       "stream": "stdout",
       "text": [
        "[0.9122, 0.0817, 0.0058, 0.0003, 0.0, 0.0, 0.0, 0.0, 0.0, 0.0]\n"
       ]
      }
     ],
     "prompt_number": 20
    },
    {
     "cell_type": "code",
     "collapsed": false,
     "input": [
      "from sklearn.mixture import DPGMM\n",
      "\n",
      "\n",
      "\n",
      "dpgmm_model = DPGMM(n_components=4)\n",
      "dpgmm_model.fit()"
     ],
     "language": "python",
     "metadata": {},
     "outputs": []
    }
   ],
   "metadata": {}
  }
 ]
}